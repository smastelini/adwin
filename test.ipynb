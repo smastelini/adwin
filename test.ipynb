{
 "cells": [
  {
   "cell_type": "code",
   "execution_count": 1,
   "metadata": {
    "collapsed": false,
    "jupyter": {
     "outputs_hidden": false
    },
    "pycharm": {
     "name": "#%%\n"
    }
   },
   "outputs": [],
   "source": [
    "%matplotlib inline\n",
    "%load_ext autoreload\n",
    "%autoreload 2"
   ]
  },
  {
   "cell_type": "code",
   "execution_count": 2,
   "metadata": {},
   "outputs": [],
   "source": [
    "import numpy as np\n",
    "\n",
    "from river.stats import Mean, RollingMean\n",
    "from river import synth\n",
    "from river import drift\n",
    "\n",
    "from generators import Gaussian\n",
    "\n",
    "import matplotlib.pyplot as plt"
   ]
  },
  {
   "cell_type": "code",
   "execution_count": 3,
   "metadata": {
    "collapsed": false,
    "jupyter": {
     "outputs_hidden": false
    },
    "pycharm": {
     "name": "#%%\n"
    }
   },
   "outputs": [],
   "source": [
    "np.random.seed(42)\n",
    "data_stream = np.concatenate(\n",
    "    (np.random.uniform(low=0, high=1, size=1000),\n",
    "    np.random.uniform(low=1, high=2, size=1000))\n",
    ")"
   ]
  },
  {
   "cell_type": "code",
   "execution_count": 4,
   "metadata": {
    "collapsed": false,
    "jupyter": {
     "outputs_hidden": false
    },
    "pycharm": {
     "name": "#%%\n"
    }
   },
   "outputs": [
    {
     "data": {
      "text/plain": [
       "array([0.37454012, 0.95071431, 0.73199394, ..., 1.06895802, 1.05705472,\n",
       "       1.28218707])"
      ]
     },
     "execution_count": 4,
     "metadata": {},
     "output_type": "execute_result"
    }
   ],
   "source": [
    "data_stream"
   ]
  },
  {
   "cell_type": "code",
   "execution_count": 5,
   "metadata": {
    "collapsed": false,
    "jupyter": {
     "outputs_hidden": false
    },
    "pycharm": {
     "name": "#%%\n"
    }
   },
   "outputs": [
    {
     "data": {
      "text/plain": [
       "1.5070173051792035"
      ]
     },
     "execution_count": 5,
     "metadata": {},
     "output_type": "execute_result"
    }
   ],
   "source": [
    "np.mean(data_stream[1000:])"
   ]
  },
  {
   "cell_type": "code",
   "execution_count": 6,
   "metadata": {
    "collapsed": false,
    "jupyter": {
     "outputs_hidden": false
    },
    "pycharm": {
     "name": "#%%\n"
    }
   },
   "outputs": [],
   "source": [
    "mean = Mean()\n",
    "vals = []\n",
    "for n in data_stream:\n",
    "    vals.append(mean.update(n).get())"
   ]
  },
  {
   "cell_type": "code",
   "execution_count": 7,
   "metadata": {
    "collapsed": false,
    "jupyter": {
     "outputs_hidden": false
    },
    "pycharm": {
     "name": "#%%\n"
    }
   },
   "outputs": [
    {
     "data": {
      "text/plain": [
       "[<matplotlib.lines.Line2D at 0x7fb8ee4f7550>]"
      ]
     },
     "execution_count": 7,
     "metadata": {},
     "output_type": "execute_result"
    },
    {
     "data": {
      "image/png": "[encoded data removed]",
      "text/plain": [
       "<Figure size 432x288 with 1 Axes>"
      ]
     },
     "metadata": {
      "needs_background": "light"
     },
     "output_type": "display_data"
    }
   ],
   "source": [
    "plt.plot(vals)\n"
   ]
  },
  {
   "cell_type": "code",
   "execution_count": 8,
   "metadata": {
    "collapsed": false,
    "jupyter": {
     "outputs_hidden": false
    },
    "pycharm": {
     "name": "#%%\n"
    }
   },
   "outputs": [],
   "source": [
    "mean = Mean()\n",
    "vals = []\n",
    "stream = Gaussian(mu=.5, sigma=.5, seed=42)\n",
    "for i, t in enumerate(stream):\n",
    "    if i == 10000:\n",
    "        break\n",
    "    vals.append(mean.update(t[1]).get())"
   ]
  },
  {
   "cell_type": "code",
   "execution_count": 9,
   "metadata": {
    "collapsed": false,
    "jupyter": {
     "outputs_hidden": false
    },
    "pycharm": {
     "name": "#%%\n"
    }
   },
   "outputs": [
    {
     "data": {
      "text/plain": [
       "[<matplotlib.lines.Line2D at 0x7fb8ec393df0>]"
      ]
     },
     "execution_count": 9,
     "metadata": {},
     "output_type": "execute_result"
    },
    {
     "data": {
      "image/png": "[encoded data removed]",
      "text/plain": [
       "<Figure size 432x288 with 1 Axes>"
      ]
     },
     "metadata": {
      "needs_background": "light"
     },
     "output_type": "display_data"
    }
   ],
   "source": [
    "plt.plot(vals)"
   ]
  },
  {
   "cell_type": "code",
   "execution_count": 10,
   "metadata": {
    "collapsed": false,
    "jupyter": {
     "outputs_hidden": false
    },
    "pycharm": {
     "name": "#%%\n"
    }
   },
   "outputs": [],
   "source": [
    "def get_stream():\n",
    "    seed=42\n",
    "    return synth.ConceptDriftStream(\n",
    "        stream=synth.ConceptDriftStream(stream=Gaussian(0, .01, seed=seed),\n",
    "                                        drift_stream=Gaussian(2, .0, seed=seed),\n",
    "                                        width=1000, position=5000, seed=seed),\n",
    "        drift_stream=Gaussian(1, .0, seed=seed), width=1000, position=10000, seed=seed)\n",
    "stream = get_stream()\n",
    "mean = Mean()\n",
    "rolling_mean = RollingMean(window_size=1000)\n",
    "vals = []\n",
    "rolling_vals = []\n",
    "for i, t in enumerate(stream):\n",
    "    if i == 20000:\n",
    "        break\n",
    "    vals.append(mean.update(t[1]).get())\n",
    "    rolling_vals.append(rolling_mean.update(t[1]).get())"
   ]
  },
  {
   "cell_type": "code",
   "execution_count": 11,
   "metadata": {},
   "outputs": [
    {
     "data": {
      "text/plain": [
       "<matplotlib.legend.Legend at 0x7fb8ec270eb0>"
      ]
     },
     "execution_count": 11,
     "metadata": {},
     "output_type": "execute_result"
    },
    {
     "data": {
      "image/png": "[encoded data removed]",
      "text/plain": [
       "<Figure size 432x288 with 1 Axes>"
      ]
     },
     "metadata": {
      "needs_background": "light"
     },
     "output_type": "display_data"
    }
   ],
   "source": [
    "plt.plot(rolling_vals, label='roll_mean')\n",
    "plt.plot(vals, label='mean')\n",
    "plt.legend()"
   ]
  },
  {
   "cell_type": "code",
   "execution_count": 12,
   "metadata": {},
   "outputs": [
    {
     "name": "stdout",
     "output_type": "stream",
     "text": [
      "Drift detected at 4383\n",
      "Drift detected at 4895\n",
      "Drift detected at 5375\n",
      "Drift detected at 6335\n",
      "Drift detected at 9599\n",
      "Drift detected at 10175\n",
      "Drift detected at 10783\n"
     ]
    }
   ],
   "source": [
    "stream = get_stream()\n",
    "adwin = drift.ADWIN()\n",
    "drift_pos = []\n",
    "for i, t in enumerate(stream):\n",
    "    if i == 20000:\n",
    "        break\n",
    "    adwin.update(t[1])\n",
    "    if adwin.change_detected:\n",
    "        print(f'Drift detected at {i}')\n",
    "        drift_pos.append(i)\n",
    "        adwin.reset()\n",
    "        "
   ]
  },
  {
   "cell_type": "code",
   "execution_count": 13,
   "metadata": {},
   "outputs": [
    {
     "data": {
      "text/plain": [
       "Text(0.5, 1.0, 'ADWIN')"
      ]
     },
     "execution_count": 13,
     "metadata": {},
     "output_type": "execute_result"
    },
    {
     "data": {
      "image/png": "[encoded data removed]",
      "text/plain": [
       "<Figure size 432x288 with 1 Axes>"
      ]
     },
     "metadata": {
      "needs_background": "light"
     },
     "output_type": "display_data"
    }
   ],
   "source": [
    "plt.plot(rolling_vals, label='roll_mean')\n",
    "plt.plot(vals, label='mean')\n",
    "plt.legend()\n",
    "for x in drift_pos:\n",
    "    plt.axvline(x, color='r')\n",
    "plt.title('ADWIN')"
   ]
  },
  {
   "cell_type": "code",
   "execution_count": 14,
   "metadata": {},
   "outputs": [
    {
     "name": "stdout",
     "output_type": "stream",
     "text": [
      "Drift detected at 2911\n",
      "Drift detected at 3647\n",
      "Drift detected at 3967\n",
      "Drift detected at 4383\n",
      "Drift detected at 4735\n",
      "Drift detected at 5087\n",
      "Drift detected at 5503\n",
      "Drift detected at 6175\n",
      "Drift detected at 6527\n",
      "Drift detected at 8127\n",
      "Drift detected at 8511\n",
      "Drift detected at 8895\n",
      "Drift detected at 9183\n",
      "Drift detected at 9631\n",
      "Drift detected at 9919\n",
      "Drift detected at 10207\n",
      "Drift detected at 10527\n",
      "Drift detected at 10911\n",
      "Drift detected at 13023\n"
     ]
    }
   ],
   "source": [
    "from uadwin import UADWIN\n",
    "\n",
    "stream = get_stream()\n",
    "uadwin = UADWIN(delta=.002)\n",
    "drift_pos = []\n",
    "for i, t in enumerate(stream):\n",
    "    if i == 20000:\n",
    "        break\n",
    "    in_drift, _ = uadwin.update(t[1])\n",
    "    if in_drift:\n",
    "        print(f'Drift detected at {i}')\n",
    "        drift_pos.append(i)\n",
    "        uadwin.reset()"
   ]
  },
  {
   "cell_type": "code",
   "execution_count": 15,
   "metadata": {},
   "outputs": [
    {
     "data": {
      "text/plain": [
       "Text(0.5, 1.0, 'UADWIN')"
      ]
     },
     "execution_count": 15,
     "metadata": {},
     "output_type": "execute_result"
    },
    {
     "data": {
      "image/png": "[encoded data removed]",
      "text/plain": [
       "<Figure size 432x288 with 1 Axes>"
      ]
     },
     "metadata": {
      "needs_background": "light"
     },
     "output_type": "display_data"
    }
   ],
   "source": [
    "plt.plot(rolling_vals, label='roll_mean')\n",
    "plt.plot(vals, label='mean')\n",
    "plt.legend()\n",
    "for x in drift_pos:\n",
    "    plt.axvline(x, color='r')\n",
    "plt.title('UADWIN')"
   ]
  }
 ],
 "metadata": {
  "kernelspec": {
   "display_name": "Python 3",
   "language": "python",
   "name": "python3"
  },
  "language_info": {
   "codemirror_mode": {
    "name": "ipython",
    "version": 3
   },
   "file_extension": ".py",
   "mimetype": "text/x-python",
   "name": "python",
   "nbconvert_exporter": "python",
   "pygments_lexer": "ipython3",
   "version": "3.8.5"
  }
 },
 "nbformat": 4,
 "nbformat_minor": 4
}
